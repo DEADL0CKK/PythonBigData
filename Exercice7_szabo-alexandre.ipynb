{
 "cells": [
  {
   "cell_type": "code",
   "execution_count": 74,
   "id": "42db7d83",
   "metadata": {},
   "outputs": [],
   "source": [
    "import seaborn as sb\n",
    "import matplotlib.pyplot as plt\n",
    "import numpy as np\n",
    "# Décomposition de la base de données en données d'apprentissage et données de test (ou validatioon)\n",
    "from sklearn.model_selection import train_test_split\n",
    "# Modele de prédiction\n",
    "import pandas as pd\n",
    "\n",
    "from sklearn import linear_model"
   ]
  },
  {
   "cell_type": "code",
   "execution_count": 75,
   "metadata": {},
   "outputs": [
    {
     "data": {
      "text/html": [
       "<div>\n",
       "<style scoped>\n",
       "    .dataframe tbody tr th:only-of-type {\n",
       "        vertical-align: middle;\n",
       "    }\n",
       "\n",
       "    .dataframe tbody tr th {\n",
       "        vertical-align: top;\n",
       "    }\n",
       "\n",
       "    .dataframe thead th {\n",
       "        text-align: right;\n",
       "    }\n",
       "</style>\n",
       "<table border=\"1\" class=\"dataframe\">\n",
       "  <thead>\n",
       "    <tr style=\"text-align: right;\">\n",
       "      <th></th>\n",
       "      <th>titre</th>\n",
       "      <th>prix</th>\n",
       "      <th>pieces</th>\n",
       "      <th>nb_chambre</th>\n",
       "      <th>surface (m²)</th>\n",
       "      <th>etage</th>\n",
       "      <th>ascenseur</th>\n",
       "      <th>terrasse</th>\n",
       "      <th>balcon</th>\n",
       "      <th>garage</th>\n",
       "      <th>box</th>\n",
       "      <th>meuble</th>\n",
       "      <th>adresse</th>\n",
       "    </tr>\n",
       "  </thead>\n",
       "  <tbody>\n",
       "    <tr>\n",
       "      <th>0</th>\n",
       "      <td>Appartement meublé</td>\n",
       "      <td>2600.0</td>\n",
       "      <td>2.0</td>\n",
       "      <td>1.0</td>\n",
       "      <td>44.0</td>\n",
       "      <td>Étage 2/6</td>\n",
       "      <td>0</td>\n",
       "      <td>0</td>\n",
       "      <td>0</td>\n",
       "      <td>0</td>\n",
       "      <td>0</td>\n",
       "      <td>1</td>\n",
       "      <td>Porte Dauphine à Paris 16ème (75116)</td>\n",
       "    </tr>\n",
       "    <tr>\n",
       "      <th>1</th>\n",
       "      <td>Appartement meublé</td>\n",
       "      <td>7800.0</td>\n",
       "      <td>4.0</td>\n",
       "      <td>3.0</td>\n",
       "      <td>170.0</td>\n",
       "      <td>Étage 5/9</td>\n",
       "      <td>1</td>\n",
       "      <td>0</td>\n",
       "      <td>1</td>\n",
       "      <td>0</td>\n",
       "      <td>0</td>\n",
       "      <td>1</td>\n",
       "      <td>Auteuil Nord à Paris 16ème (75016)</td>\n",
       "    </tr>\n",
       "    <tr>\n",
       "      <th>2</th>\n",
       "      <td>Appartement meublé</td>\n",
       "      <td>3500.0</td>\n",
       "      <td>3.0</td>\n",
       "      <td>2.0</td>\n",
       "      <td>60.0</td>\n",
       "      <td>Étage 6/6</td>\n",
       "      <td>1</td>\n",
       "      <td>0</td>\n",
       "      <td>0</td>\n",
       "      <td>0</td>\n",
       "      <td>0</td>\n",
       "      <td>1</td>\n",
       "      <td>Porte Dauphine à Paris 16ème (75116)</td>\n",
       "    </tr>\n",
       "    <tr>\n",
       "      <th>3</th>\n",
       "      <td>Appartement meublé</td>\n",
       "      <td>4200.0</td>\n",
       "      <td>2.0</td>\n",
       "      <td>1.0</td>\n",
       "      <td>57.0</td>\n",
       "      <td>Étage 5/5</td>\n",
       "      <td>1</td>\n",
       "      <td>0</td>\n",
       "      <td>0</td>\n",
       "      <td>0</td>\n",
       "      <td>0</td>\n",
       "      <td>1</td>\n",
       "      <td>Triangle d'Or à Paris 8ème (75008)</td>\n",
       "    </tr>\n",
       "    <tr>\n",
       "      <th>4</th>\n",
       "      <td>Appartement meublé</td>\n",
       "      <td>2100.0</td>\n",
       "      <td>2.0</td>\n",
       "      <td>1.0</td>\n",
       "      <td>35.0</td>\n",
       "      <td>Étage 3/6</td>\n",
       "      <td>0</td>\n",
       "      <td>0</td>\n",
       "      <td>0</td>\n",
       "      <td>0</td>\n",
       "      <td>0</td>\n",
       "      <td>1</td>\n",
       "      <td>Muette Nord à Paris 16ème (75116)</td>\n",
       "    </tr>\n",
       "    <tr>\n",
       "      <th>...</th>\n",
       "      <td>...</td>\n",
       "      <td>...</td>\n",
       "      <td>...</td>\n",
       "      <td>...</td>\n",
       "      <td>...</td>\n",
       "      <td>...</td>\n",
       "      <td>...</td>\n",
       "      <td>...</td>\n",
       "      <td>...</td>\n",
       "      <td>...</td>\n",
       "      <td>...</td>\n",
       "      <td>...</td>\n",
       "      <td>...</td>\n",
       "    </tr>\n",
       "    <tr>\n",
       "      <th>255</th>\n",
       "      <td>Studio meublé</td>\n",
       "      <td>1050.0</td>\n",
       "      <td>0.0</td>\n",
       "      <td>0.0</td>\n",
       "      <td>16.0</td>\n",
       "      <td>Étage 0/6</td>\n",
       "      <td>0</td>\n",
       "      <td>0</td>\n",
       "      <td>0</td>\n",
       "      <td>0</td>\n",
       "      <td>0</td>\n",
       "      <td>1</td>\n",
       "      <td>Arsenal à Paris 4ème (75004)</td>\n",
       "    </tr>\n",
       "    <tr>\n",
       "      <th>256</th>\n",
       "      <td>Studio meublé</td>\n",
       "      <td>990.0</td>\n",
       "      <td>0.0</td>\n",
       "      <td>0.0</td>\n",
       "      <td>19.0</td>\n",
       "      <td>0</td>\n",
       "      <td>0</td>\n",
       "      <td>0</td>\n",
       "      <td>0</td>\n",
       "      <td>0</td>\n",
       "      <td>0</td>\n",
       "      <td>0</td>\n",
       "      <td>Muette Nord à Paris 16ème (75116)</td>\n",
       "    </tr>\n",
       "    <tr>\n",
       "      <th>257</th>\n",
       "      <td>Appartement</td>\n",
       "      <td>1457.0</td>\n",
       "      <td>2.0</td>\n",
       "      <td>1.0</td>\n",
       "      <td>18.0</td>\n",
       "      <td>0</td>\n",
       "      <td>0</td>\n",
       "      <td>0</td>\n",
       "      <td>0</td>\n",
       "      <td>0</td>\n",
       "      <td>0</td>\n",
       "      <td>0</td>\n",
       "      <td>Bassin de la Villette à Paris 19ème (75019)</td>\n",
       "    </tr>\n",
       "    <tr>\n",
       "      <th>258</th>\n",
       "      <td>Studio</td>\n",
       "      <td>1194.0</td>\n",
       "      <td>0.0</td>\n",
       "      <td>0.0</td>\n",
       "      <td>36.0</td>\n",
       "      <td>0</td>\n",
       "      <td>1</td>\n",
       "      <td>0</td>\n",
       "      <td>0</td>\n",
       "      <td>0</td>\n",
       "      <td>0</td>\n",
       "      <td>0</td>\n",
       "      <td>Chaillot à Paris 16ème (75016)</td>\n",
       "    </tr>\n",
       "    <tr>\n",
       "      <th>259</th>\n",
       "      <td>Duplex meublé</td>\n",
       "      <td>4800.0</td>\n",
       "      <td>3.0</td>\n",
       "      <td>2.0</td>\n",
       "      <td>146.0</td>\n",
       "      <td>0</td>\n",
       "      <td>0</td>\n",
       "      <td>1</td>\n",
       "      <td>0</td>\n",
       "      <td>0</td>\n",
       "      <td>0</td>\n",
       "      <td>1</td>\n",
       "      <td>Pasteur Montparnasse à Paris 15ème (75015)</td>\n",
       "    </tr>\n",
       "  </tbody>\n",
       "</table>\n",
       "<p>260 rows × 13 columns</p>\n",
       "</div>"
      ],
      "text/plain": [
       "                  titre    prix  pieces  nb_chambre  surface (m²)      etage  \\\n",
       "0    Appartement meublé  2600.0     2.0         1.0          44.0  Étage 2/6   \n",
       "1    Appartement meublé  7800.0     4.0         3.0         170.0  Étage 5/9   \n",
       "2    Appartement meublé  3500.0     3.0         2.0          60.0  Étage 6/6   \n",
       "3    Appartement meublé  4200.0     2.0         1.0          57.0  Étage 5/5   \n",
       "4    Appartement meublé  2100.0     2.0         1.0          35.0  Étage 3/6   \n",
       "..                  ...     ...     ...         ...           ...        ...   \n",
       "255       Studio meublé  1050.0     0.0         0.0          16.0  Étage 0/6   \n",
       "256       Studio meublé   990.0     0.0         0.0          19.0          0   \n",
       "257         Appartement  1457.0     2.0         1.0          18.0          0   \n",
       "258              Studio  1194.0     0.0         0.0          36.0          0   \n",
       "259       Duplex meublé  4800.0     3.0         2.0         146.0          0   \n",
       "\n",
       "     ascenseur  terrasse  balcon  garage  box  meuble  \\\n",
       "0            0         0       0       0    0       1   \n",
       "1            1         0       1       0    0       1   \n",
       "2            1         0       0       0    0       1   \n",
       "3            1         0       0       0    0       1   \n",
       "4            0         0       0       0    0       1   \n",
       "..         ...       ...     ...     ...  ...     ...   \n",
       "255          0         0       0       0    0       1   \n",
       "256          0         0       0       0    0       0   \n",
       "257          0         0       0       0    0       0   \n",
       "258          1         0       0       0    0       0   \n",
       "259          0         1       0       0    0       1   \n",
       "\n",
       "                                         adresse  \n",
       "0           Porte Dauphine à Paris 16ème (75116)  \n",
       "1             Auteuil Nord à Paris 16ème (75016)  \n",
       "2           Porte Dauphine à Paris 16ème (75116)  \n",
       "3             Triangle d'Or à Paris 8ème (75008)  \n",
       "4              Muette Nord à Paris 16ème (75116)  \n",
       "..                                           ...  \n",
       "255                 Arsenal à Paris 4ème (75004)  \n",
       "256            Muette Nord à Paris 16ème (75116)  \n",
       "257  Bassin de la Villette à Paris 19ème (75019)  \n",
       "258               Chaillot à Paris 16ème (75016)  \n",
       "259   Pasteur Montparnasse à Paris 15ème (75015)  \n",
       "\n",
       "[260 rows x 13 columns]"
      ]
     },
     "execution_count": 75,
     "metadata": {},
     "output_type": "execute_result"
    }
   ],
   "source": [
    "df = pd.read_excel(r'Exercice4_resultat_szabo-alexandre.xlsx')\n",
    "data = df.replace(np.NAN, 0)\n",
    "data = data.replace(True, 1)\n",
    "data = data.replace(False, 0)\n",
    "data[\"prix\"] = data[\"prix\"].astype(float)\n",
    "data"
   ]
  },
  {
   "cell_type": "code",
   "execution_count": 76,
   "id": "2b75a328",
   "metadata": {},
   "outputs": [
    {
     "data": {
      "text/plain": [
       "'rng = np.random.RandomState(0)\\nX = rng.randn(n_samples, n_features)'"
      ]
     },
     "execution_count": 76,
     "metadata": {},
     "output_type": "execute_result"
    }
   ],
   "source": [
    "n_samples, n_features = data.shape#1000, 20\n",
    "\"\"\"rng = np.random.RandomState(0)\n",
    "X = rng.randn(n_samples, n_features)\"\"\""
   ]
  },
  {
   "cell_type": "code",
   "execution_count": 77,
   "id": "01378123",
   "metadata": {},
   "outputs": [],
   "source": [
    "y=data[\"prix\"]\n",
    "X=data[[\"pieces\",\"nb_chambre\",\"surface (m²)\",\"meuble\"]]"
   ]
  },
  {
   "cell_type": "code",
   "execution_count": 78,
   "id": "50ab0a23",
   "metadata": {},
   "outputs": [],
   "source": [
    "X_train, X_test, y_train, y_test = train_test_split(X, y, test_size=0.30, random_state=45)"
   ]
  },
  {
   "cell_type": "code",
   "execution_count": 79,
   "id": "25460f3b",
   "metadata": {},
   "outputs": [
    {
     "data": {
      "text/plain": [
       "array([ -10.89531641, -383.10003925,   50.89764566,  924.70655993])"
      ]
     },
     "execution_count": 79,
     "metadata": {},
     "output_type": "execute_result"
    }
   ],
   "source": [
    "reg = linear_model.LinearRegression()\n",
    "\n",
    "# Apprentissage du modèle\n",
    "reg.fit(X_train,y_train)\n",
    "\n",
    "# Coefficients du modèle\n",
    "reg.coef_"
   ]
  },
  {
   "cell_type": "code",
   "execution_count": 80,
   "id": "62ec01d3",
   "metadata": {},
   "outputs": [
    {
     "data": {
      "text/plain": [
       "2670.7028153795495"
      ]
     },
     "execution_count": 80,
     "metadata": {},
     "output_type": "execute_result"
    }
   ],
   "source": [
    "p1 = 3 # p1 :nombre de piece\n",
    "p2 = 2 # p2 : nb chmabre\n",
    "p3 = 50\n",
    "p4 = 1\n",
    "loyer = reg.coef_[0]*p1 + reg.coef_[1]*p2 + reg.coef_[2]*p3 + reg.coef_[3]*p4\n",
    "loyer"
   ]
  },
  {
   "cell_type": "code",
   "execution_count": 81,
   "id": "fcf10238",
   "metadata": {},
   "outputs": [],
   "source": [
    "Y_pred=[i for i in reg.predict(X_test)]\n"
   ]
  },
  {
   "cell_type": "code",
   "execution_count": 82,
   "id": "8ac58fed",
   "metadata": {},
   "outputs": [
    {
     "data": {
      "text/plain": [
       "Text(0.5, 1.0, 'Vrai prix VS predict prix')"
      ]
     },
     "execution_count": 82,
     "metadata": {},
     "output_type": "execute_result"
    },
    {
     "data": {
      "image/png": "[encoded data removed]",
      "text/plain": [
       "<Figure size 432x288 with 1 Axes>"
      ]
     },
     "metadata": {
      "needs_background": "light"
     },
     "output_type": "display_data"
    }
   ],
   "source": [
    "plt.plot(Y_pred,y_test)\n",
    "plt.ylabel(\"Y_test\")\n",
    "plt.xlabel(\"Y_pred\")\n",
    "plt.title(\"Vrai prix VS predict prix\")"
   ]
  },
  {
   "cell_type": "code",
   "execution_count": 83,
   "id": "c8eed43e",
   "metadata": {},
   "outputs": [],
   "source": [
    "def score(y_test,Y_pred):\n",
    "  res=np.array(y_test-Y_pred)**2\n",
    "  return(np.mean(res))"
   ]
  },
  {
   "cell_type": "code",
   "execution_count": 84,
   "id": "1a5188f5",
   "metadata": {},
   "outputs": [
    {
     "data": {
      "text/plain": [
       "729653.7319769377"
      ]
     },
     "execution_count": 84,
     "metadata": {},
     "output_type": "execute_result"
    }
   ],
   "source": [
    "score(y_test,Y_pred)"
   ]
  }
 ],
 "metadata": {
  "kernelspec": {
   "display_name": "Python 3 (ipykernel)",
   "language": "python",
   "name": "python3"
  },
  "language_info": {
   "codemirror_mode": {
    "name": "ipython",
    "version": 3
   },
   "file_extension": ".py",
   "mimetype": "text/x-python",
   "name": "python",
   "nbconvert_exporter": "python",
   "pygments_lexer": "ipython3",
   "version": "3.9.5"
  }
 },
 "nbformat": 4,
 "nbformat_minor": 5
}
